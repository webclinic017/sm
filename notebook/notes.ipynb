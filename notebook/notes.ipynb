{
 "cells": [
  {
   "attachments": {},
   "cell_type": "markdown",
   "metadata": {},
   "source": [
    "# Sytem Modeling Development Notes"
   ]
  },
  {
   "attachments": {},
   "cell_type": "markdown",
   "metadata": {},
   "source": [
    "It has been a decade since I have focused a great deal of attention on system design and modeling as part of my PhD research.  Since then, I have been working on the electron microscope beam control system, neural networks, Kubernets clustering, python algorithm development and web development.\n",
    "\n",
    "I think that this broader technology growth can overcome many of the obstacles to rapidly design systems.\n",
    "\n",
    "Goals:\n",
    "1. Is Jupyter a method to take mixed-media notes?  \n",
    "    - Can I replace a paper notebook with an electronic notebook?\n",
    "    - Can I include hand-drawn content?\n",
    "    - Can I include live equations\n",
    "    - Can Include charts?\n",
    "    - Can I organize different notebooks together and find information efficiently across notebooks?\n",
    "    - Can I backup and restore data in Git\n",
    "    - Can the data be maintained over the long term?\n",
    "1. Organize and navigate the data to crate a system\n",
    "1. Build a library of available subsystems\n",
    "1. Provide a routine ability to simply combine these systems in physical, electrical, dynamic, structural, control, ... design\n",
    "1. Able to automatically produce the systems composed of 2 subsystems\n",
    "1. Able to automatically identify and correct interference\n",
    "1. Able to predict system behavior and prediction error\n",
    "1. Able to crate and refine models and error based on physical system behavior\n",
    "1. Able to search and refine design based on improved models\n"
   ]
  },
  {
   "attachments": {},
   "cell_type": "markdown",
   "metadata": {},
   "source": [
    "The following sketch outlines a simple multi-disciplinary system that I used in my PhD publications: a solar-powered airplane power plant.   \n",
    "![Solar System Directed Graph](../img/DirectedGraph.png)"
   ]
  },
  {
   "attachments": {},
   "cell_type": "markdown",
   "metadata": {},
   "source": [
    "Some observations:\n",
    "- I have describe the system as a directed graph. \n",
    "- It is a cyclic graph: most nodes depend on he system state.  For example, the battery voltage will change dependent on the current draw from the battery\n",
    "- Component models include ordinary differential equations (differential algebraic equations) (battery, motor, financial model), partial differential equations (propeller), discrete time systems (MPPT, BLDC controller), data from manufacturer tables (solar cells, simplified propeller model), geometric models (CAD mounting), process instructions (fabrication, assembly)"
   ]
  },
  {
   "attachments": {},
   "cell_type": "markdown",
   "metadata": {},
   "source": [
    "In my PhD work, I assumed that I could not control component model state.  It was hidden, within a modeling tool and could not be saved or restored.  ]\n",
    "- Microservice programming has changed this.  You need to be able to terminate, restore, and replicate a microservice without loosing its data.  If this is the case, a system solver can progress based a specific state but return to it perform the computation again.  This could be useful to get a rough answer that could be refined if necessary (e.g. numerical instability.)\n",
    "- Creating a reliable compute cluster is now the expectation.  \n",
    "- The explosion of python has produced a vast number of modeling libraries in the public domain.   \n",
    "- Machine learning can be used in isolation or along side other forms of modeling to create models or model corrections from data\n",
    "- There are a large number of inexpensive, powerful, open-source contollers\n",
    "- There is a large number of open-source fabriaction tools developed by the 3D printing community\n"
   ]
  },
  {
   "attachments": {},
   "cell_type": "markdown",
   "metadata": {},
   "source": [
    "\n"
   ]
  },
  {
   "attachments": {},
   "cell_type": "markdown",
   "metadata": {},
   "source": [
    "30 January 2022\n",
    "- Try differential equation solver for projectile motion\n",
    "- Practice developing using [Legrangian Mechanics](https://en.wikipedia.org/wiki/Lagrangian_mechanics)\n",
    "- A mechanical system is the tuple $  {\\displaystyle (M,L)} $  \n",
    "- M is the [configuration space](https://en.wikipedia.org/wiki/Configuration_space_(physics))\n",
    "- $ {\\displaystyle L=L(q,v,t)} $ is the Legrangian\n",
    "- $ {\\displaystyle L=T-V} $ \n",
    "- $ {\\displaystyle T} $ models the kenetic engery of the system\n",
    "- $ {\\displaystyle V} $ models the potential energy of the system\n",
    "- $  {\\displaystyle q\\in M} $\n",
    "- $ {\\displaystyle v} $ is the velocity vector at $ {\\displaystyle q} {\\displaystyle (v} $ is tangential to $ {\\displaystyle M)} $ \n",
    "- $ {\\displaystyle L:TM\\times \\mathbb {R} _{t}\\to \\mathbb {R} ,} and {\\displaystyle v\\in T_{q}M} $\n",
    "- Lagrangian mechanics has been extended to allow for non-conservative forces.\n",
    "- Lagrangian mechanics, one looks at the path the system can take and chooses a convenient set of independent generalized coordinates that completely characterize the possible motion of the particle. \n",
    "- For a wide variety of physical systems, if the size and shape of a massive object are negligible, it is a useful simplification to treat it as a point particle. For a system of N point particles with masses m1, m2, ..., mN, each particle has a position vector, denoted r1, r2, ..., rN\n",
    "## The Lagrangian\n",
    "- Lagrangian mechanics uses the energies in the system. \n",
    "- The non-relativistic Lagrangian for a system of particles can be defined by:\n",
    "$$ {\\displaystyle L=T-V} $$\n",
    "- where $ {\\displaystyle T} $ is the total kinetic energy of the system\n",
    "$$ {\\displaystyle T={\\frac {1}{2}}\\sum _{k=1}^{N}m_{k}v_{k}^{2}} $$\n",
    "- $ v_k^2 = v_k · v_k $ is the magnitude squared of velocity, equivalent to the dot product of the velocity with itself. The kinetic energy is a function only of the velocities vk, not the positions rk nor time t, so T = T(v1, v2, ...)\n",
    "- $ {\\displaystyle V} $  is the potential energy of the system\n",
    "    \n"
   ]
  },
  {
   "cell_type": "code",
   "execution_count": 1,
   "metadata": {},
   "outputs": [],
   "source": [
    "import math\n",
    "import sympy"
   ]
  },
  {
   "attachments": {},
   "cell_type": "markdown",
   "metadata": {},
   "source": [
    "A nonliner dynamic system model $y(t)=F(k_s,u(t))$, defined with configuraiton vector k_s, produces output $y(t)$ from input $u(t)$.  I would like a continuous, compluete, piecewise differentialbe design space $[k_s, R, k_s, u_s(t)] = D(k_D, y(t), u_D(t))$.  This would make it feasible to specifiy design parameters $k_D$ from an objective space $[D, d_D, u_D(t)]=O(o,C,R,u(t))$.  I would like to specify the model objectives $o$  and constraints $C$ In an convient, natural language for failiar users and designers of the system technoloy.  The design inputs $u(t)$ define a set of system inputs we expect for the system.  For example, acceleration profiles or other target capablites.  This could also include target responses.  The ojbective space design $D$ is the best performing design based on th emodel objectives, constraintes, and inputs.  \n",
    "![DesignSpaceTransformations](../img/DesignSpaceTransformations.png)\n",
    "The objective space could be simply a transformer language model that produces design inputs $k_D$ but I would expect input to be specified in various design languages natural to the design.  If the design were for fisning poles, the objectives and constraints should be natural for fisherment and designers of fishing poles.  \n",
    "\n",
    "Ideally each of these spaces can created thorugh unsupervised learning from models and measurements.  $u(t) \\rightarrow u_D(t) \\rightarrow u_s(t)$ should be feasible through mathematial or machine learning methods.  \n",
    "\n",
    "System design could build upon enginnering design, linear and nonlinear system theory, and data drive modeling.  Algorithms to convert a set of system designs into a searchable design space could build upon pareto optimization techniques, surogate modeling, and continuous relaxation.  I hope for a single high dimentional continuous space from isolated, discrete and discontinuous system designs.\n",
    "\n",
    "Because we are creating a design space, this could help to create an objective space.  I should already know the interesting boundaries of the desing space.  This could help to establish the objective space."
   ]
  },
  {
   "attachments": {},
   "cell_type": "markdown",
   "metadata": {},
   "source": [
    "1 April, 2023\n",
    "\n",
    "Multi-gpu, multi-node processing.  Goal: efficient traininging and simulation of large models.\n",
    "Choices\n",
    "- [Torch DISTRIBUTED COMMUNICATION PACKAGE - TORCH.DISTRIBUTED](https://pytorch.org/docs/stable/distributed.html)\n",
    "- [Pytorch Distributed Data Parallel](https://pytorch.org/tutorials/intermediate/ddp_tutorial.html)\n",
    "- [TorchX](https://pytorch.org/torchx/latest/)\n",
    "- [TorchX Quickstart](https://pytorch.org/torchx/latest/quickstart.html#Quickstart)\n",
    "- [Horovod](https://horovod.ai/)\n",
    "- [Ray train](https://docs.ray.io/en/latest/train/train.html)\n",
    "\n",
    "\n",
    "For ubuntu, need python3 to be callable as python using:\n",
    "```cmd\n",
    "sudo apt install python-is-python3\n",
    "```\n",
    "Now run with local scheduler:\n",
    "```cmd\n",
    "torchx run --scheduler local_cwd utils.python --script test/torchxapp.py \"Brad\"\n",
    "```\n",
    "And with docker scheduler:\n",
    "```cmd\n",
    "torchx run --scheduler local_docker utils.python --script test/torchxapp.py \"Brad\"\n",
    "```\n",
    "Froze for ~ 20 mintues then I killed it.  Started it again and it ran.  I think it took a long time to load the docker image but didn't provide any feedback\n",
    "\n",
    "Torchx distributed:\n",
    "```cmd\n",
    "blarson@hiocnn:~/git/sm$ torchx run --scheduler local_docker utils.python --script test/torchxapp.py \"Brad\"\n",
    "torchx 2023-04-01 10:04:31 INFO     Checking for changes in workspace `file:///home/blarson/git/sm`...\n",
    "torchx 2023-04-01 10:04:31 INFO     To disable workspaces pass: --workspace=\"\" from CLI or workspace=None programmatically.\n",
    "torchx 2023-04-01 10:04:31 INFO     Workspace `file:///home/blarson/git/sm` resolved to filesystem path `/home/blarson/git/sm`\n",
    "torchx 2023-04-01 10:04:32 INFO     Building workspace docker image (this may take a while)...\n",
    "torchx 2023-04-01 10:04:32 INFO     Built new image `sha256:b9bf768a6609bd2f27a9593254091826eb15076c3d1ad006952babc7aa3e25a6` based on original image `ghcr.io/pytorch/torchx:0.4.0` and changes in workspace `file:///home/blarson/git/sm` for role[0]=python.\n",
    "local_docker://torchx/torchx_utils_python-nrptqqt7tn5f6c\n",
    "torchx 2023-04-01 10:04:32 INFO     Waiting for the app to finish...\n",
    "python/0 Hello, Brad!\n",
    "torchx 2023-04-01 10:04:33 INFO     Job finished: SUCCEEDED\n",
    "blarson@hiocnn:~/git/sm$ torchx run --scheduler local_docker utils.python --script test/torchxapp.py \"Brad\"^C\n",
    "blarson@hiocnn:~/git/sm$ torchx run --scheduler local_docker dist.ddp -j 2x2 --script test/torchxdist.py\n",
    "torchx 2023-04-01 10:06:55 INFO     Checking for changes in workspace `file:///home/blarson/git/sm`...\n",
    "torchx 2023-04-01 10:06:55 INFO     To disable workspaces pass: --workspace=\"\" from CLI or workspace=None programmatically.\n",
    "torchx 2023-04-01 10:06:55 INFO     Workspace `file:///home/blarson/git/sm` resolved to filesystem path `/home/blarson/git/sm`\n",
    "torchx 2023-04-01 10:06:55 INFO     Building workspace docker image (this may take a while)...\n",
    "torchx 2023-04-01 10:07:23 INFO     Built new image `sha256:ae4b4c797f2f9a672d5de551ed89a7787eaca5335a93fddc365b8a8b7137baa5` based on original image `ghcr.io/pytorch/torchx:0.4.0` and changes in workspace `file:///home/blarson/git/sm` for role[0]=torchxdist.\n",
    "local_docker://torchx/torchxdist-n6fgjwmcnz372c\n",
    "torchx 2023-04-01 10:07:24 INFO     Waiting for the app to finish...\n",
    "torchxdist/0 WARNING:__main__:\n",
    "torchxdist/0 *****************************************\n",
    "torchxdist/0 Setting OMP_NUM_THREADS environment variable for each process to be 1 in default, to avoid your system being overloaded, please further tune the variable for optimal performance in your application as needed. \n",
    "torchxdist/0 *****************************************\n",
    "torchxdist/1 WARNING:__main__:\n",
    "torchxdist/1 *****************************************\n",
    "torchxdist/1 Setting OMP_NUM_THREADS environment variable for each process to be 1 in default, to avoid your system being overloaded, please further tune the variable for optimal performance in your application as needed. \n",
    "torchxdist/1 *****************************************\n",
    "torchxdist/0 [0]:I am worker 0 of 4!\n",
    "torchxdist/0 [0]:all_reduce output = tensor([6])\n",
    "torchxdist/0 [1]:I am worker 1 of 4!\n",
    "torchxdist/0 [1]:all_reduce output = tensor([6])\n",
    "torchxdist/1 WARNING:torch.distributed.elastic.rendezvous.dynamic_rendezvous:The node 'torchxdist-n6fgjwmcnz372c-torchxdist-1_1_0' has failed to shutdown the rendezvous 'torchxdist-n6fgjwmcnz372c' due to an error of type RendezvousConnectionError.\n",
    "torchxdist/1 [0]:I am worker 2 of 4!\n",
    "torchxdist/1 [0]:all_reduce output = tensor([6])\n",
    "torchxdist/1 [1]:I am worker 3 of 4!\n",
    "torchxdist/1 [1]:all_reduce output = tensor([6])\n",
    "torchx 2023-04-01 10:07:33 INFO     Job finished: SUCCEEDED\n",
    "blarson@hiocnn:~/git/sm$ \n",
    "```\n",
    "\n",
    "\n",
    "What if, instead of another job runner, I use [PyTorch distributed](https://pytorch.org/docs/stable/distributed.html) but launch the job with [argo workflows](https://github.com/volcano-sh/volcano/blob/master/example/integrations/argo/README.md) running [volcano gang scheduling](https://volcano.sh/en/docs/plugins/).  This gives good feedback and debugability. \n",
    "\n",
    "[Use Argo Workflow to integrate Volcano Job](https://github.com/volcano-sh/volcano/tree/master/example/integrations/argo)\n",
    "[Volcano gang scheduling](https://volcano.sh/en/docs/plugins/)\n",
    "\n",
    "Explore torch elastic\n",
    "[Torch elastic](https://medium.com/pytorch/reduce-time-and-cost-by-running-distributed-elastic-pytorch-jobs-on-kubernetes-4f7ac3986307)\n",
    "[Torch elastic source](https://github.com/pytorch/elastic/tree/master/kubernetes)\n",
    "\n",
    "What about [mlflow](https://mlflow.org/docs/latest/index.html)?\n",
    "\n",
    "[Propeller analysis](https://www.grc.nasa.gov/www/k-12/airplane/propanl.html)\n",
    "[Machine learning–accelerated computational\n",
    "fluid dynamics](https://www.pnas.org/doi/pdf/10.1073/pnas.2101784118)\n",
    "[JAX-CFD: Computational Fluid Dynamics in JAX](https://github.com/google/jax-cfd)\n",
    "[Machine learning–accelerated computational fluid dynamics](https://www.pnas.org/doi/10.1073/pnas.2101784118)\n"
   ]
  },
  {
   "attachments": {},
   "cell_type": "markdown",
   "metadata": {},
   "source": [
    "3 April, 2023\n",
    "\n",
    "Testing torchx DDP:\n",
    "blarson@hiocnn:~/git/sm$ torchx run --scheduler local_docker dist.ddp -j 2x2 --script test/torchxdist.py\n",
    "torchx 2023-04-03 07:04:14 INFO     Checking for changes in workspace `file:///home/blarson/git/sm`...\n",
    "torchx 2023-04-03 07:04:14 INFO     To disable workspaces pass: --workspace=\"\" from CLI or workspace=None programmatically.\n",
    "torchx 2023-04-03 07:04:14 INFO     Workspace `file:///home/blarson/git/sm` resolved to filesystem path `/home/blarson/git/sm`\n",
    "torchx 2023-04-03 07:04:15 INFO     Building workspace docker image (this may take a while)...\n",
    "torchx 2023-04-03 07:04:47 INFO     Built new image `sha256:4c37330b1c3bc3528d6fe87dddec62db76bd710a8ad49d34bdf6b7aa951a3e65` based on original image `ghcr.io/pytorch/torchx:0.4.0` and changes in workspace `file:///home/blarson/git/sm` for role[0]=torchxdist.\n",
    "local_docker://torchx/torchxdist-wl0z6p4v5bspwc\n",
    "torchx 2023-04-03 07:04:49 INFO     Waiting for the app to finish...\n",
    "torchxdist/0 WARNING:__main__:\n",
    "torchxdist/0 *****************************************\n",
    "torchxdist/0 Setting OMP_NUM_THREADS environment variable for each process to be 1 in default, to avoid your system being overloaded, please further tune the variable for optimal performance in your application as needed. \n",
    "torchxdist/0 *****************************************\n",
    "torchxdist/1 WARNING:__main__:\n",
    "torchxdist/1 *****************************************\n",
    "torchxdist/1 Setting OMP_NUM_THREADS environment variable for each process to be 1 in default, to avoid your system being overloaded, please further tune the variable for optimal performance in your application as needed. \n",
    "torchxdist/1 *****************************************\n",
    "torchxdist/1 [0]:I am worker 2 of 4!\n",
    "torchxdist/1 [0]:all_reduce output = tensor([6])\n",
    "torchxdist/1 [1]:I am worker 3 of 4!\n",
    "torchxdist/1 [1]:all_reduce output = tensor([6])\n",
    "torchxdist/0 [0]:I am worker 0 of 4!\n",
    "torchxdist/0 [0]:all_reduce output = tensor([6])\n",
    "torchxdist/0 [1]:I am worker 1 of 4!\n",
    "torchxdist/0 [1]:all_reduce output = tensor([6])\n",
    "torchx 2023-04-03 07:04:58 INFO     Job finished: SUCCEEDED\n",
    "blarson@hiocnn:~/git/sm$ \n",
    "\n",
    "Filed when I changed\n",
    "```python\n",
    "dist.init_process_group(backend=\"gloo\")\n",
    "```\n",
    "to\n",
    "```python\n",
    "dist.init_process_group(backend=\"nccl\")\n",
    "```\n",
    "with\n",
    "```\n",
    "torchxdist/1 [0]:RuntimeError: ProcessGroupNCCL is only supported with GPUs, no GPUs found!\n",
    "torchxdist/0 [0]:RuntimeError: ProcessGroupNCCL is only supported with GPUs, no GPUs found!\n",
    "```\n",
    "This is probably the fault of the container.\n",
    "\n",
    "If no port number is specified HOST_NODE_ADDR defaults to 29400. From [Elastic Quickstart](https://pytorch.org/docs/stable/elastic/quickstart.html)\n",
    "\n",
    "[torch.distributed](https://pytorch.org/docs/stable/distributed.html#basics)\n",
    "Currently three initialization methods are supported:\n",
    "### TCP initialization\n",
    "There are two ways to initialize using TCP, both requiring a network address reachable from all processes and a desired world_size. The first way requires specifying an address that belongs to the rank 0 process. This initialization method requires that all processes have manually specified ranks.\n",
    "```python\n",
    "import torch.distributed as dist\n",
    "\n",
    "# Use address of one of the machines\n",
    "dist.init_process_group(backend, init_method='tcp://10.1.1.20:23456',\n",
    "                        rank=args.rank, world_size=4)\n",
    "```\n",
    "### Shared file-system initialization\n",
    "Another initialization method makes use of a file system that is shared and visible from all machines in a group, along with a desired world_size. The URL should start with file:// and contain a path to a non-existent file (in an existing directory) on a shared file system. File-system initialization will automatically create that file if it doesn’t exist, but will not delete the file. Therefore, it is your responsibility to make sure that the file is cleaned up before the next init_process_group() call on the same file path/name.\n",
    "\n",
    "Note that automatic rank assignment is not supported anymore in the latest distributed package and group_name is deprecated as well.\n",
    "\n",
    "This method assumes that the file system supports locking using fcntl - most local systems and NFS support it.\n",
    "```python\n",
    "import torch.distributed as dist\n",
    "\n",
    "# rank should always be specified\n",
    "dist.init_process_group(backend, init_method='file:///mnt/nfs/sharedfile',\n",
    "                        world_size=4, rank=args.rank)\n",
    "```"
   ]
  },
  {
   "attachments": {},
   "cell_type": "markdown",
   "metadata": {},
   "source": [
    "6 April, 2023\n",
    "- [Install Volcano](https://github.com/volcano-sh/volcano), [volcano helm install](https://github.com/volcano-sh/volcano/tree/master/installer)\n",
    "    ```cmd\n",
    "    kc apply -f https://raw.githubusercontent.com/volcano-sh/volcano/master/installer/volcano-development.yaml\n",
    "    ```\n",
    "- Able to successfully run [10-job-step](https://github.com/volcano-sh/volcano/blob/master/example/integrations/argo/10-job-step.yaml) and [20-job-DAG](https://github.com/volcano-sh/volcano/blob/master/example/integrations/argo/20-job-DAG.yaml)\n",
    "- I think I have the [Pytorch Plugin](https://github.com/volcano-sh/volcano/blob/master/docs/user-guide/how_to_use_pytorch_plugin.md#pytorch-plugin-user-guide)\n",
    "- See if I can run a DDP application on Argo & Volcano\n",
    "\n"
   ]
  },
  {
   "attachments": {},
   "cell_type": "markdown",
   "metadata": {},
   "source": [
    "17 April, 2023\n",
    "Added test/ddpmnist.py.  This successfully performs DDP training using MNIST dataset.  \n",
    "Next: \n",
    "- add checkpoint loading\n",
    "- Move to resnet/cifar-10 so I have a bigger model to work with.\n",
    "- This tiny example doesn't provide enought load to see of DDP is working\n",
    "- Include hyperparameter tuning\n"
   ]
  },
  {
   "attachments": {},
   "cell_type": "markdown",
   "metadata": {},
   "source": [
    "24 April, 2023\n",
    "- test/ddpmnist.py working well\n",
    "- test/FSDP_mnist.py working well\n",
    "- DDP slightly ourpreforming DDP on the little test exmple\n",
    "- Try running from argo with torch multiprocessing\n",
    "- Try [OPTUNA](https://optuna.org) hyperparameter optimizaiton with DDP and FSDP on the baby network & mnist data set\n",
    "- Try [NNI](https://github.com/microsoft/nni) hyperparameter optimizaiton with DDP and FSDP on the baby network & mnist data set\n",
    "- Try running from volcano with and without torch multiprocessing\n",
    "- Try running from argo in volcano"
   ]
  },
  {
   "attachments": {},
   "cell_type": "markdown",
   "metadata": {},
   "source": [
    "5 May 2023\n",
    "- The previous test ddpmnist.py and FSDP_mnist.py worked in docker but not Kubernetes\n",
    "- Try [WRITING DISTRIBUTED APPLICATIONS WITH PYTORCH](https://pytorch.org/tutorials/intermediate/dist_tuto.html) to see if this plays better with Kubernetes"
   ]
  },
  {
   "attachments": {},
   "cell_type": "markdown",
   "metadata": {},
   "source": [
    "19 May 2023\n",
    "- ddp with nccl worked at port 12355 but failed at port 29500"
   ]
  }
 ],
 "metadata": {
  "kernelspec": {
   "display_name": "Python 3",
   "language": "python",
   "name": "python3"
  },
  "language_info": {
   "codemirror_mode": {
    "name": "ipython",
    "version": 3
   },
   "file_extension": ".py",
   "mimetype": "text/x-python",
   "name": "python",
   "nbconvert_exporter": "python",
   "pygments_lexer": "ipython3",
   "version": "3.10.6"
  },
  "vscode": {
   "interpreter": {
    "hash": "916dbcbb3f70747c44a77c7bcd40155683ae19c65e1c03b4aa3499c5328201f1"
   }
  }
 },
 "nbformat": 4,
 "nbformat_minor": 4
}
