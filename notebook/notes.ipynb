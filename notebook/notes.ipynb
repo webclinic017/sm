{
 "cells": [
  {
   "cell_type": "markdown",
   "metadata": {},
   "source": [
    "# Sytem Modeling Development Notes"
   ]
  },
  {
   "cell_type": "markdown",
   "metadata": {},
   "source": [
    "It has been a decade since I have focused a great deal of attention on system design and modeling as part of my PhD research.  Since then, I have been working on the electron microscope beam control system, neural networks, Kubernets clustering, python algorithm development and web development.\n",
    "\n",
    "I think that this broader technology growth can overcome many of the obstacles to rapidly design systems.\n",
    "\n",
    "Goals:\n",
    "1. Is Jupyter a method to take mixed-media notes?  \n",
    "    - Can I replace a paper notebook with an electronic notebook?\n",
    "    - Can I include hand-drawn content?\n",
    "    - Can I include live equations\n",
    "    - Can Include charts?\n",
    "    - Can I organize different notebooks together and find information efficiently across notebooks?\n",
    "    - Can I backup and restore data in Git\n",
    "    - Can the data be maintained over the long term?\n",
    "1. Organize and navigate the data to crate a system\n",
    "1. Build a library of available subsystems\n",
    "1. Provide a routine ability to simply combine these systems in physical, electrical, dynamic, structural, control, ... design\n",
    "1. Able to automatically produce the systems composed of 2 subsystems\n",
    "1. Able to automatically identify and correct interference\n",
    "1. Able to predict system behavior and prediction error\n",
    "1. Able to crate and refine models and error based on physical system behavior\n",
    "1. Able to search and refine design based on improved models\n"
   ]
  },
  {
   "cell_type": "markdown",
   "metadata": {},
   "source": [
    "The following sketch outlines a simple multi-disciplinary system that I used in my PhD publications: a solar-powered airplane power plant.   \n",
    "![Solar System Directed Graph](../img/DirectedGraph.png)"
   ]
  },
  {
   "cell_type": "markdown",
   "metadata": {},
   "source": [
    "Some observations:\n",
    "- I have describe the system as a directed graph. \n",
    "- It is a cyclic graph: most nodes depend on he system state.  For example, the battery voltage will change dependent on the current draw from the battery\n",
    "- Component models include ordinary differential equations (differential algebraic equations) (battery, motor, financial model), partial differential equations (propeller), discrete time systems (MPPT, BLDC controller), data from manufacturer tables (solar cells, simplified propeller model), geometric models (CAD mounting), process instructions (fabrication, assembly)"
   ]
  },
  {
   "cell_type": "markdown",
   "metadata": {},
   "source": [
    "In my PhD work, I assumed that I could not control component model state.  It was hidden, within a modeling tool and could not be saved or restored.  ]\n",
    "- Microservice programming has changed this.  You need to be able to terminate, restore, and replicate a microservice without loosing its data.  If this is the case, a system solver can progress based a specific state but return to it perform the computation again.  This could be useful to get a rough answer that could be refined if necessary (e.g. numerical instability.)\n",
    "- Creating a reliable compute cluster is now the expectation.  \n",
    "- The explosion of python has produced a vast number of modeling libraries in the public domain.   \n",
    "- Machine learning can be used in isolation or along side other forms of modeling to create models or model corrections from data\n",
    "- There are a large number of inexpensive, powerful, open-source contollers\n",
    "- There is a large number of open-source fabriaction tools developed by the 3D printing community\n"
   ]
  },
  {
   "cell_type": "markdown",
   "metadata": {},
   "source": [
    "\n"
   ]
  },
  {
   "cell_type": "markdown",
   "metadata": {},
   "source": [
    "30 January 2022\n",
    "- Try differential equation solver for projectile motion\n",
    "- Practice developing using [Legrangian Mechanics](https://en.wikipedia.org/wiki/Lagrangian_mechanics)\n",
    "- A mechanical system is the tuple $  {\\displaystyle (M,L)} $  \n",
    "- M is the [configuration space](https://en.wikipedia.org/wiki/Configuration_space_(physics))\n",
    "- $ {\\displaystyle L=L(q,v,t)} $ is the Legrangian\n",
    "- $ {\\displaystyle L=T-V} $ \n",
    "- $ {\\displaystyle T} $ models the kenetic engery of the system\n",
    "- $ {\\displaystyle V} $ models the potential energy of the system\n",
    "- $  {\\displaystyle q\\in M} $\n",
    "- $ {\\displaystyle v} $ is the velocity vector at $ {\\displaystyle q} {\\displaystyle (v} $ is tangential to $ {\\displaystyle M)} $ \n",
    "- $ {\\displaystyle L:TM\\times \\mathbb {R} _{t}\\to \\mathbb {R} ,} and {\\displaystyle v\\in T_{q}M} $\n",
    "- Lagrangian mechanics has been extended to allow for non-conservative forces.\n",
    "- Lagrangian mechanics, one looks at the path the system can take and chooses a convenient set of independent generalized coordinates that completely characterize the possible motion of the particle. \n",
    "- For a wide variety of physical systems, if the size and shape of a massive object are negligible, it is a useful simplification to treat it as a point particle. For a system of N point particles with masses m1, m2, ..., mN, each particle has a position vector, denoted r1, r2, ..., rN\n",
    "## The Lagrangian\n",
    "- Lagrangian mechanics uses the energies in the system. \n",
    "- The non-relativistic Lagrangian for a system of particles can be defined by:\n",
    "$$ {\\displaystyle L=T-V} $$\n",
    "- where $ {\\displaystyle T} $ is the total kinetic energy of the system\n",
    "$$ {\\displaystyle T={\\frac {1}{2}}\\sum _{k=1}^{N}m_{k}v_{k}^{2}} $$\n",
    "- $ v_k^2 = v_k · v_k $ is the magnitude squared of velocity, equivalent to the dot product of the velocity with itself. The kinetic energy is a function only of the velocities vk, not the positions rk nor time t, so T = T(v1, v2, ...)\n",
    "- $ {\\displaystyle V} $  is the potential energy of the system\n",
    "    \n"
   ]
  },
  {
   "cell_type": "code",
   "execution_count": 1,
   "metadata": {},
   "outputs": [],
   "source": [
    "import math\n",
    "import sympy"
   ]
  },
  {
   "attachments": {},
   "cell_type": "markdown",
   "metadata": {},
   "source": [
    "A nonliner dynamic system model $y(t)=F(k_s,u(t))$, defined with configuraiton vector k_s, produces output $y(t)$ from input $u(t)$.  I would like a continuous, compluete, piecewise differentialbe design space $[k_s, R, k_s, u_s(t)] = D(k_D, y(t), u_D(t))$.  This would make it feasible to specifiy design parameters $k_D$ from an objective space $[D, d_D, u_D(t)]=O(o,C,R,u(t))$.  I would like to specify the model objectives $o$  and constraints $C$ In an convient, natural language for failiar users and designers of the system technoloy.  The design inputs $u(t)$ define a set of system inputs we expect for the system.  For example, acceleration profiles or other target capablites.  This could also include target responses.  The ojbective space design $D$ is the best performing design based on th emodel objectives, constraintes, and inputs.  \n",
    "![DesignSpaceTransformations](../img/DesignSpaceTransformations.png)\n",
    "The objective space could be simply a transformer language model that produces design inputs $k_D$ but I would expect input to be specified in various design languages natural to the design.  If the design were for fisning poles, the objectives and constraints should be natural for fisherment and designers of fishing poles.  \n",
    "\n",
    "Ideally each of these spaces can created thorugh unsupervised learning from models and measurements.  $u(t) \\rightarrow u_D(t) \\rightarrow u_s(t)$ should be feasible through mathematial or machine learning methods.  \n",
    "\n",
    "System design could build upon enginnering design, linear and nonlinear system theory, and data drive modeling.  Algorithms to convert a set of system designs into a searchable design space could build upon pareto optimization techniques, surogate modeling, and continuous relaxation.  I hope for a single high dimentional continuous space from isolated, discrete and discontinuous system designs.\n",
    "\n",
    "Because we are creating a design space, this could help to create an objective space.  I should already know the interesting boundaries of the desing space.  This could help to establish the objective space."
   ]
  },
  {
   "cell_type": "markdown",
   "metadata": {},
   "source": []
  }
 ],
 "metadata": {
  "kernelspec": {
   "display_name": "Python 3",
   "language": "python",
   "name": "python3"
  },
  "language_info": {
   "codemirror_mode": {
    "name": "ipython",
    "version": 3
   },
   "file_extension": ".py",
   "mimetype": "text/x-python",
   "name": "python",
   "nbconvert_exporter": "python",
   "pygments_lexer": "ipython3",
   "version": "3.10.6"
  },
  "vscode": {
   "interpreter": {
    "hash": "916dbcbb3f70747c44a77c7bcd40155683ae19c65e1c03b4aa3499c5328201f1"
   }
  }
 },
 "nbformat": 4,
 "nbformat_minor": 4
}
